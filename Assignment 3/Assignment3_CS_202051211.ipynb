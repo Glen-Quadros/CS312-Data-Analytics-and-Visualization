{
  "nbformat": 4,
  "nbformat_minor": 0,
  "metadata": {
    "colab": {
      "provenance": []
    },
    "kernelspec": {
      "name": "python3",
      "display_name": "Python 3"
    },
    "language_info": {
      "name": "python"
    }
  },
  "cells": [
    {
      "cell_type": "code",
      "execution_count": 16,
      "metadata": {
        "id": "5XKoTiGU7CLI"
      },
      "outputs": [],
      "source": [
        "import numpy as np\n",
        "import pandas as pd\n",
        "import seaborn as sns\n",
        "import matplotlib.pyplot as plt"
      ]
    },
    {
      "cell_type": "code",
      "source": [
        "!pip install joypy"
      ],
      "metadata": {
        "colab": {
          "base_uri": "https://localhost:8080/"
        },
        "id": "XFXNmtg17fgy",
        "outputId": "e330c66a-7bab-4f5a-b734-8ea86ac9c660"
      },
      "execution_count": 2,
      "outputs": [
        {
          "output_type": "stream",
          "name": "stdout",
          "text": [
            "Looking in indexes: https://pypi.org/simple, https://us-python.pkg.dev/colab-wheels/public/simple/\n",
            "Collecting joypy\n",
            "  Downloading joypy-0.2.6-py2.py3-none-any.whl (8.6 kB)\n",
            "Requirement already satisfied: pandas>=0.20.0 in /usr/local/lib/python3.8/dist-packages (from joypy) (1.3.5)\n",
            "Requirement already satisfied: numpy>=1.16.5 in /usr/local/lib/python3.8/dist-packages (from joypy) (1.21.6)\n",
            "Requirement already satisfied: scipy>=0.11.0 in /usr/local/lib/python3.8/dist-packages (from joypy) (1.7.3)\n",
            "Requirement already satisfied: matplotlib in /usr/local/lib/python3.8/dist-packages (from joypy) (3.2.2)\n",
            "Requirement already satisfied: python-dateutil>=2.7.3 in /usr/local/lib/python3.8/dist-packages (from pandas>=0.20.0->joypy) (2.8.2)\n",
            "Requirement already satisfied: pytz>=2017.3 in /usr/local/lib/python3.8/dist-packages (from pandas>=0.20.0->joypy) (2022.7)\n",
            "Requirement already satisfied: cycler>=0.10 in /usr/local/lib/python3.8/dist-packages (from matplotlib->joypy) (0.11.0)\n",
            "Requirement already satisfied: kiwisolver>=1.0.1 in /usr/local/lib/python3.8/dist-packages (from matplotlib->joypy) (1.4.4)\n",
            "Requirement already satisfied: pyparsing!=2.0.4,!=2.1.2,!=2.1.6,>=2.0.1 in /usr/local/lib/python3.8/dist-packages (from matplotlib->joypy) (3.0.9)\n",
            "Requirement already satisfied: six>=1.5 in /usr/local/lib/python3.8/dist-packages (from python-dateutil>=2.7.3->pandas>=0.20.0->joypy) (1.15.0)\n",
            "Installing collected packages: joypy\n",
            "Successfully installed joypy-0.2.6\n"
          ]
        }
      ]
    },
    {
      "cell_type": "code",
      "source": [
        "from joypy import joyplot"
      ],
      "metadata": {
        "id": "dW9yoP08_AeB"
      },
      "execution_count": 29,
      "outputs": []
    },
    {
      "cell_type": "code",
      "source": [
        "df = pd.read_csv('/content/grains_production_india_from_2001_to_2017.csv')"
      ],
      "metadata": {
        "id": "XVshCZth7ij5"
      },
      "execution_count": 26,
      "outputs": []
    },
    {
      "cell_type": "code",
      "source": [
        "df.head()"
      ],
      "metadata": {
        "colab": {
          "base_uri": "https://localhost:8080/",
          "height": 484
        },
        "id": "XSiSdrcd7xUZ",
        "outputId": "6f082921-0562-4066-e775-d1cb7b0f7b34"
      },
      "execution_count": 4,
      "outputs": [
        {
          "output_type": "execute_result",
          "data": {
            "text/plain": [
              "      Year  Food Grains (Cereals) - Rice (000 tonnes)  \\\n",
              "0  2001-02                                      93340   \n",
              "1  2002-03                                      71820   \n",
              "2  2003-04                                      88526   \n",
              "3  2004-05                                      83132   \n",
              "4  2005-06                                      91793   \n",
              "\n",
              "   Food Grains (Cereals) - Jowar (000 tonnes)  \\\n",
              "0                                        7557   \n",
              "1                                        7012   \n",
              "2                                        6681   \n",
              "3                                        7244   \n",
              "4                                        7630   \n",
              "\n",
              "   Food Grains (Cereals) - Bajra (000 tonnes)  \\\n",
              "0                                        8284   \n",
              "1                                        4719   \n",
              "2                                       12109   \n",
              "3                                        7931   \n",
              "4                                        7684   \n",
              "\n",
              "   Food Grains (Cereals) - Maize (000 tonnes)  \\\n",
              "0                                       13160   \n",
              "1                                       11152   \n",
              "2                                       14984   \n",
              "3                                       14172   \n",
              "4                                       14710   \n",
              "\n",
              "   Food Grains (Cereals) - Ragi (000 tonnes)  \\\n",
              "0                                       2375   \n",
              "1                                       1316   \n",
              "2                                       1966   \n",
              "3                                       2432   \n",
              "4                                       2354   \n",
              "\n",
              "   Food Grains (Cereals) - Small Millets (000 tonnes)  \\\n",
              "0                                                577    \n",
              "1                                                459    \n",
              "2                                                564    \n",
              "3                                                478    \n",
              "4                                                472    \n",
              "\n",
              "   Food Grains (Cereals) - Wheat (000 tonnes)  \\\n",
              "0                                     72766.0   \n",
              "1                                     65761.0   \n",
              "2                                     72156.0   \n",
              "3                                     68637.0   \n",
              "4                                     69355.0   \n",
              "\n",
              "   Food Grains (Cereals) - Barley (000 tonnes)  \\\n",
              "0                                       1425.0   \n",
              "1                                       1407.0   \n",
              "2                                       1298.0   \n",
              "3                                       1207.0   \n",
              "4                                       1221.0   \n",
              "\n",
              "   Food Grains (Cereals) - Total (000 tonnes)  ...  Natural Rubber (000 MT)  \\\n",
              "0                                      199483  ...                    631.0   \n",
              "1                                      163646  ...                    649.0   \n",
              "2                                      198284  ...                    712.0   \n",
              "3                                      185233  ...                    750.0   \n",
              "4                                      195217  ...                    803.0   \n",
              "\n",
              "   Banana (000 tonnes)  Sugarcane (000 tonnes)  Tobacco (000 tonnes)  \\\n",
              "0              13160.0                297208.0                 546.0   \n",
              "1              11975.0                287383.0                 500.0   \n",
              "2              11388.0                233862.0                 550.0   \n",
              "3              11710.0                237088.0                 549.0   \n",
              "4              12105.0                281172.0                 552.0   \n",
              "\n",
              "   Potatoes (000 tonnes)  Black Pepper (000 tonnes)  Chillies (000 tonnes)  \\\n",
              "0                23924.0                       62.0                 1069.0   \n",
              "1                23269.0                       72.0                  895.0   \n",
              "2                23060.0                       73.0                 1236.0   \n",
              "3                23631.0                       73.0                 1186.0   \n",
              "4                23905.0                       93.0                 1015.0   \n",
              "\n",
              "   Ginger (000 tonnes)  Coconut (000 tonnes)  Turmeric (000 tonnes)  \n",
              "0                322.0               12963.0                  563.0  \n",
              "1                280.0               12535.0                  522.0  \n",
              "2                302.0               12178.0                  565.0  \n",
              "3                359.0               12833.0                  718.0  \n",
              "4                391.0               14811.0                  852.0  \n",
              "\n",
              "[5 rows x 36 columns]"
            ],
            "text/html": [
              "\n",
              "  <div id=\"df-f66557a5-85b7-409c-86f5-dc4de9f8e0db\">\n",
              "    <div class=\"colab-df-container\">\n",
              "      <div>\n",
              "<style scoped>\n",
              "    .dataframe tbody tr th:only-of-type {\n",
              "        vertical-align: middle;\n",
              "    }\n",
              "\n",
              "    .dataframe tbody tr th {\n",
              "        vertical-align: top;\n",
              "    }\n",
              "\n",
              "    .dataframe thead th {\n",
              "        text-align: right;\n",
              "    }\n",
              "</style>\n",
              "<table border=\"1\" class=\"dataframe\">\n",
              "  <thead>\n",
              "    <tr style=\"text-align: right;\">\n",
              "      <th></th>\n",
              "      <th>Year</th>\n",
              "      <th>Food Grains (Cereals) - Rice (000 tonnes)</th>\n",
              "      <th>Food Grains (Cereals) - Jowar (000 tonnes)</th>\n",
              "      <th>Food Grains (Cereals) - Bajra (000 tonnes)</th>\n",
              "      <th>Food Grains (Cereals) - Maize (000 tonnes)</th>\n",
              "      <th>Food Grains (Cereals) - Ragi (000 tonnes)</th>\n",
              "      <th>Food Grains (Cereals) - Small Millets (000 tonnes)</th>\n",
              "      <th>Food Grains (Cereals) - Wheat (000 tonnes)</th>\n",
              "      <th>Food Grains (Cereals) - Barley (000 tonnes)</th>\n",
              "      <th>Food Grains (Cereals) - Total (000 tonnes)</th>\n",
              "      <th>...</th>\n",
              "      <th>Natural Rubber (000 MT)</th>\n",
              "      <th>Banana (000 tonnes)</th>\n",
              "      <th>Sugarcane (000 tonnes)</th>\n",
              "      <th>Tobacco (000 tonnes)</th>\n",
              "      <th>Potatoes (000 tonnes)</th>\n",
              "      <th>Black Pepper (000 tonnes)</th>\n",
              "      <th>Chillies (000 tonnes)</th>\n",
              "      <th>Ginger (000 tonnes)</th>\n",
              "      <th>Coconut (000 tonnes)</th>\n",
              "      <th>Turmeric (000 tonnes)</th>\n",
              "    </tr>\n",
              "  </thead>\n",
              "  <tbody>\n",
              "    <tr>\n",
              "      <th>0</th>\n",
              "      <td>2001-02</td>\n",
              "      <td>93340</td>\n",
              "      <td>7557</td>\n",
              "      <td>8284</td>\n",
              "      <td>13160</td>\n",
              "      <td>2375</td>\n",
              "      <td>577</td>\n",
              "      <td>72766.0</td>\n",
              "      <td>1425.0</td>\n",
              "      <td>199483</td>\n",
              "      <td>...</td>\n",
              "      <td>631.0</td>\n",
              "      <td>13160.0</td>\n",
              "      <td>297208.0</td>\n",
              "      <td>546.0</td>\n",
              "      <td>23924.0</td>\n",
              "      <td>62.0</td>\n",
              "      <td>1069.0</td>\n",
              "      <td>322.0</td>\n",
              "      <td>12963.0</td>\n",
              "      <td>563.0</td>\n",
              "    </tr>\n",
              "    <tr>\n",
              "      <th>1</th>\n",
              "      <td>2002-03</td>\n",
              "      <td>71820</td>\n",
              "      <td>7012</td>\n",
              "      <td>4719</td>\n",
              "      <td>11152</td>\n",
              "      <td>1316</td>\n",
              "      <td>459</td>\n",
              "      <td>65761.0</td>\n",
              "      <td>1407.0</td>\n",
              "      <td>163646</td>\n",
              "      <td>...</td>\n",
              "      <td>649.0</td>\n",
              "      <td>11975.0</td>\n",
              "      <td>287383.0</td>\n",
              "      <td>500.0</td>\n",
              "      <td>23269.0</td>\n",
              "      <td>72.0</td>\n",
              "      <td>895.0</td>\n",
              "      <td>280.0</td>\n",
              "      <td>12535.0</td>\n",
              "      <td>522.0</td>\n",
              "    </tr>\n",
              "    <tr>\n",
              "      <th>2</th>\n",
              "      <td>2003-04</td>\n",
              "      <td>88526</td>\n",
              "      <td>6681</td>\n",
              "      <td>12109</td>\n",
              "      <td>14984</td>\n",
              "      <td>1966</td>\n",
              "      <td>564</td>\n",
              "      <td>72156.0</td>\n",
              "      <td>1298.0</td>\n",
              "      <td>198284</td>\n",
              "      <td>...</td>\n",
              "      <td>712.0</td>\n",
              "      <td>11388.0</td>\n",
              "      <td>233862.0</td>\n",
              "      <td>550.0</td>\n",
              "      <td>23060.0</td>\n",
              "      <td>73.0</td>\n",
              "      <td>1236.0</td>\n",
              "      <td>302.0</td>\n",
              "      <td>12178.0</td>\n",
              "      <td>565.0</td>\n",
              "    </tr>\n",
              "    <tr>\n",
              "      <th>3</th>\n",
              "      <td>2004-05</td>\n",
              "      <td>83132</td>\n",
              "      <td>7244</td>\n",
              "      <td>7931</td>\n",
              "      <td>14172</td>\n",
              "      <td>2432</td>\n",
              "      <td>478</td>\n",
              "      <td>68637.0</td>\n",
              "      <td>1207.0</td>\n",
              "      <td>185233</td>\n",
              "      <td>...</td>\n",
              "      <td>750.0</td>\n",
              "      <td>11710.0</td>\n",
              "      <td>237088.0</td>\n",
              "      <td>549.0</td>\n",
              "      <td>23631.0</td>\n",
              "      <td>73.0</td>\n",
              "      <td>1186.0</td>\n",
              "      <td>359.0</td>\n",
              "      <td>12833.0</td>\n",
              "      <td>718.0</td>\n",
              "    </tr>\n",
              "    <tr>\n",
              "      <th>4</th>\n",
              "      <td>2005-06</td>\n",
              "      <td>91793</td>\n",
              "      <td>7630</td>\n",
              "      <td>7684</td>\n",
              "      <td>14710</td>\n",
              "      <td>2354</td>\n",
              "      <td>472</td>\n",
              "      <td>69355.0</td>\n",
              "      <td>1221.0</td>\n",
              "      <td>195217</td>\n",
              "      <td>...</td>\n",
              "      <td>803.0</td>\n",
              "      <td>12105.0</td>\n",
              "      <td>281172.0</td>\n",
              "      <td>552.0</td>\n",
              "      <td>23905.0</td>\n",
              "      <td>93.0</td>\n",
              "      <td>1015.0</td>\n",
              "      <td>391.0</td>\n",
              "      <td>14811.0</td>\n",
              "      <td>852.0</td>\n",
              "    </tr>\n",
              "  </tbody>\n",
              "</table>\n",
              "<p>5 rows × 36 columns</p>\n",
              "</div>\n",
              "      <button class=\"colab-df-convert\" onclick=\"convertToInteractive('df-f66557a5-85b7-409c-86f5-dc4de9f8e0db')\"\n",
              "              title=\"Convert this dataframe to an interactive table.\"\n",
              "              style=\"display:none;\">\n",
              "        \n",
              "  <svg xmlns=\"http://www.w3.org/2000/svg\" height=\"24px\"viewBox=\"0 0 24 24\"\n",
              "       width=\"24px\">\n",
              "    <path d=\"M0 0h24v24H0V0z\" fill=\"none\"/>\n",
              "    <path d=\"M18.56 5.44l.94 2.06.94-2.06 2.06-.94-2.06-.94-.94-2.06-.94 2.06-2.06.94zm-11 1L8.5 8.5l.94-2.06 2.06-.94-2.06-.94L8.5 2.5l-.94 2.06-2.06.94zm10 10l.94 2.06.94-2.06 2.06-.94-2.06-.94-.94-2.06-.94 2.06-2.06.94z\"/><path d=\"M17.41 7.96l-1.37-1.37c-.4-.4-.92-.59-1.43-.59-.52 0-1.04.2-1.43.59L10.3 9.45l-7.72 7.72c-.78.78-.78 2.05 0 2.83L4 21.41c.39.39.9.59 1.41.59.51 0 1.02-.2 1.41-.59l7.78-7.78 2.81-2.81c.8-.78.8-2.07 0-2.86zM5.41 20L4 18.59l7.72-7.72 1.47 1.35L5.41 20z\"/>\n",
              "  </svg>\n",
              "      </button>\n",
              "      \n",
              "  <style>\n",
              "    .colab-df-container {\n",
              "      display:flex;\n",
              "      flex-wrap:wrap;\n",
              "      gap: 12px;\n",
              "    }\n",
              "\n",
              "    .colab-df-convert {\n",
              "      background-color: #E8F0FE;\n",
              "      border: none;\n",
              "      border-radius: 50%;\n",
              "      cursor: pointer;\n",
              "      display: none;\n",
              "      fill: #1967D2;\n",
              "      height: 32px;\n",
              "      padding: 0 0 0 0;\n",
              "      width: 32px;\n",
              "    }\n",
              "\n",
              "    .colab-df-convert:hover {\n",
              "      background-color: #E2EBFA;\n",
              "      box-shadow: 0px 1px 2px rgba(60, 64, 67, 0.3), 0px 1px 3px 1px rgba(60, 64, 67, 0.15);\n",
              "      fill: #174EA6;\n",
              "    }\n",
              "\n",
              "    [theme=dark] .colab-df-convert {\n",
              "      background-color: #3B4455;\n",
              "      fill: #D2E3FC;\n",
              "    }\n",
              "\n",
              "    [theme=dark] .colab-df-convert:hover {\n",
              "      background-color: #434B5C;\n",
              "      box-shadow: 0px 1px 3px 1px rgba(0, 0, 0, 0.15);\n",
              "      filter: drop-shadow(0px 1px 2px rgba(0, 0, 0, 0.3));\n",
              "      fill: #FFFFFF;\n",
              "    }\n",
              "  </style>\n",
              "\n",
              "      <script>\n",
              "        const buttonEl =\n",
              "          document.querySelector('#df-f66557a5-85b7-409c-86f5-dc4de9f8e0db button.colab-df-convert');\n",
              "        buttonEl.style.display =\n",
              "          google.colab.kernel.accessAllowed ? 'block' : 'none';\n",
              "\n",
              "        async function convertToInteractive(key) {\n",
              "          const element = document.querySelector('#df-f66557a5-85b7-409c-86f5-dc4de9f8e0db');\n",
              "          const dataTable =\n",
              "            await google.colab.kernel.invokeFunction('convertToInteractive',\n",
              "                                                     [key], {});\n",
              "          if (!dataTable) return;\n",
              "\n",
              "          const docLinkHtml = 'Like what you see? Visit the ' +\n",
              "            '<a target=\"_blank\" href=https://colab.research.google.com/notebooks/data_table.ipynb>data table notebook</a>'\n",
              "            + ' to learn more about interactive tables.';\n",
              "          element.innerHTML = '';\n",
              "          dataTable['output_type'] = 'display_data';\n",
              "          await google.colab.output.renderOutput(dataTable, element);\n",
              "          const docLink = document.createElement('div');\n",
              "          docLink.innerHTML = docLinkHtml;\n",
              "          element.appendChild(docLink);\n",
              "        }\n",
              "      </script>\n",
              "    </div>\n",
              "  </div>\n",
              "  "
            ]
          },
          "metadata": {},
          "execution_count": 4
        }
      ]
    },
    {
      "cell_type": "code",
      "source": [
        "df.columns"
      ],
      "metadata": {
        "colab": {
          "base_uri": "https://localhost:8080/"
        },
        "id": "uAGomDSa7zDu",
        "outputId": "bafc9f09-8190-4a4a-9c64-5af8c1c9a660"
      },
      "execution_count": 6,
      "outputs": [
        {
          "output_type": "execute_result",
          "data": {
            "text/plain": [
              "Index(['Year', 'Food Grains (Cereals) - Rice (000 tonnes)',\n",
              "       'Food Grains (Cereals) - Jowar (000 tonnes)',\n",
              "       'Food Grains (Cereals) - Bajra (000 tonnes)',\n",
              "       'Food Grains (Cereals) - Maize (000 tonnes)',\n",
              "       'Food Grains (Cereals) - Ragi (000 tonnes)',\n",
              "       'Food Grains (Cereals) - Small Millets (000 tonnes)',\n",
              "       'Food Grains (Cereals) - Wheat (000 tonnes)',\n",
              "       'Food Grains (Cereals) - Barley (000 tonnes)',\n",
              "       'Food Grains (Cereals) - Total (000 tonnes)',\n",
              "       'Food Grains (Pulses) - Gram (000 tonnes)',\n",
              "       'Food Grains (Pulses) - Tur (000 tonnes)',\n",
              "       'Food Grains (Pulses) - Other Pulses (000 tonnes)',\n",
              "       'Food Grains (Pulses) - Total (000 tonnes)',\n",
              "       'Food Grains - Total (000 tonnes)',\n",
              "       'Oilseeds - Ground-nuts (000 tonnes)',\n",
              "       'Oilseeds - Sesamum (000 tonnes)',\n",
              "       'Oilseeds - Rapeseed and Mustard (000 tonnes)',\n",
              "       'Oilseeds - Linseed (000 tonnes)',\n",
              "       'Oilseeds - Castor seed (000 tonnes)',\n",
              "       'Total Nine Oilseeds (000 tonnes)', 'Cotton (000 Bales)',\n",
              "       'Jute (000 Bales)', 'Mesta (000 Bales)', 'Tea (Million kgs)',\n",
              "       'Coffee (000 MT)', 'Natural Rubber (000 MT)', 'Banana (000 tonnes)',\n",
              "       'Sugarcane (000 tonnes)', 'Tobacco (000 tonnes)',\n",
              "       'Potatoes (000 tonnes)', 'Black Pepper (000 tonnes)',\n",
              "       'Chillies (000 tonnes)', 'Ginger (000 tonnes)', 'Coconut (000 tonnes)',\n",
              "       'Turmeric (000 tonnes)'],\n",
              "      dtype='object')"
            ]
          },
          "metadata": {},
          "execution_count": 6
        }
      ]
    },
    {
      "cell_type": "code",
      "source": [
        "df.isna().sum()"
      ],
      "metadata": {
        "colab": {
          "base_uri": "https://localhost:8080/"
        },
        "id": "yv2eYLqHBJbZ",
        "outputId": "102dc360-2990-4ca0-edb6-f3a3193793f2"
      },
      "execution_count": 44,
      "outputs": [
        {
          "output_type": "execute_result",
          "data": {
            "text/plain": [
              "Year                                                  0\n",
              "Food Grains (Cereals) - Rice (000 tonnes)             0\n",
              "Food Grains (Cereals) - Jowar (000 tonnes)            0\n",
              "Food Grains (Cereals) - Bajra (000 tonnes)            0\n",
              "Food Grains (Cereals) - Maize (000 tonnes)            0\n",
              "Food Grains (Cereals) - Ragi (000 tonnes)             0\n",
              "Food Grains (Cereals) - Small Millets (000 tonnes)    0\n",
              "Food Grains (Cereals) - Wheat (000 tonnes)            1\n",
              "Food Grains (Cereals) - Barley (000 tonnes)           1\n",
              "Food Grains (Cereals) - Total (000 tonnes)            0\n",
              "Food Grains (Pulses) - Gram (000 tonnes)              1\n",
              "Food Grains (Pulses) - Tur (000 tonnes)               0\n",
              "Food Grains (Pulses) - Other Pulses (000 tonnes)      0\n",
              "Food Grains (Pulses) - Total (000 tonnes)             0\n",
              "Food Grains - Total (000 tonnes)                      0\n",
              "Oilseeds - Ground-nuts (000 tonnes)                   0\n",
              "Oilseeds - Sesamum (000 tonnes)                       0\n",
              "Oilseeds - Rapeseed and Mustard (000 tonnes)          1\n",
              "Oilseeds - Linseed (000 tonnes)                       1\n",
              "Oilseeds - Castor seed (000 tonnes)                   0\n",
              "Total Nine Oilseeds (000 tonnes)                      0\n",
              "Cotton (000 Bales)                                    0\n",
              "Jute (000 Bales)                                      0\n",
              "Mesta (000 Bales)                                     0\n",
              "Tea (Million kgs)                                     1\n",
              "Coffee (000 MT)                                       0\n",
              "Natural Rubber (000 MT)                               3\n",
              "Banana (000 tonnes)                                   2\n",
              "Sugarcane (000 tonnes)                                2\n",
              "Tobacco (000 tonnes)                                  3\n",
              "Potatoes (000 tonnes)                                 2\n",
              "Black Pepper (000 tonnes)                             2\n",
              "Chillies (000 tonnes)                                 2\n",
              "Ginger (000 tonnes)                                   2\n",
              "Coconut (000 tonnes)                                  2\n",
              "Turmeric (000 tonnes)                                 2\n",
              "dtype: int64"
            ]
          },
          "metadata": {},
          "execution_count": 44
        }
      ]
    },
    {
      "cell_type": "code",
      "source": [
        "df = df.dropna()"
      ],
      "metadata": {
        "id": "CN0j51qYBPFs"
      },
      "execution_count": 45,
      "outputs": []
    },
    {
      "cell_type": "code",
      "source": [
        "new_df1 = df[['Year', 'Food Grains (Cereals) - Rice (000 tonnes)',\n",
        "       'Food Grains (Cereals) - Jowar (000 tonnes)',\n",
        "       'Food Grains (Cereals) - Bajra (000 tonnes)',\n",
        "       'Food Grains (Cereals) - Maize (000 tonnes)',\n",
        "       'Food Grains (Cereals) - Ragi (000 tonnes)',\n",
        "       'Food Grains (Cereals) - Small Millets (000 tonnes)',\n",
        "       'Food Grains (Cereals) - Wheat (000 tonnes)',\n",
        "       'Food Grains (Cereals) - Barley (000 tonnes)',\n",
        "       'Food Grains (Pulses) - Gram (000 tonnes)',\n",
        "       'Food Grains (Pulses) - Tur (000 tonnes)',\n",
        "       'Food Grains (Pulses) - Other Pulses (000 tonnes)']]"
      ],
      "metadata": {
        "id": "Hchk8RtM77Ov"
      },
      "execution_count": 46,
      "outputs": []
    },
    {
      "cell_type": "code",
      "source": [
        "new_df1.rename(columns = {'Food Grains (Cereals) - Rice (000 tonnes)' : 'Rice',\n",
        "       'Food Grains (Cereals) - Jowar (000 tonnes)' : 'Jowar',\n",
        "       'Food Grains (Cereals) - Bajra (000 tonnes)' : 'Bajra',\n",
        "       'Food Grains (Cereals) - Maize (000 tonnes)' : 'Maize',\n",
        "       'Food Grains (Cereals) - Ragi (000 tonnes)' : 'Ragi',\n",
        "       'Food Grains (Cereals) - Small Millets (000 tonnes)' : 'Small Millets',\n",
        "       'Food Grains (Cereals) - Wheat (000 tonnes)' : 'Wheat',\n",
        "       'Food Grains (Cereals) - Barley (000 tonnes)' : 'Barley',\n",
        "       'Food Grains (Pulses) - Gram (000 tonnes)' : 'Gram',\n",
        "       'Food Grains (Pulses) - Tur (000 tonnes)' : 'Tur',\n",
        "       'Food Grains (Pulses) - Other Pulses (000 tonnes)' : 'Other Pulses',\n",
        "       }, inplace=True\n",
        "       )"
      ],
      "metadata": {
        "colab": {
          "base_uri": "https://localhost:8080/"
        },
        "id": "E0PJY5aF8eOA",
        "outputId": "2479b1d1-0ad9-450b-c76b-3ed30aadf8f8"
      },
      "execution_count": 47,
      "outputs": [
        {
          "output_type": "stream",
          "name": "stderr",
          "text": [
            "/usr/local/lib/python3.8/dist-packages/pandas/core/frame.py:5039: SettingWithCopyWarning: \n",
            "A value is trying to be set on a copy of a slice from a DataFrame\n",
            "\n",
            "See the caveats in the documentation: https://pandas.pydata.org/pandas-docs/stable/user_guide/indexing.html#returning-a-view-versus-a-copy\n",
            "  return super().rename(\n"
          ]
        }
      ]
    },
    {
      "cell_type": "code",
      "source": [
        "plt.figure(figsize=(15,10))\n",
        "sns.boxplot(data=new_df1)"
      ],
      "metadata": {
        "colab": {
          "base_uri": "https://localhost:8080/",
          "height": 609
        },
        "id": "WwtyRwo18iOF",
        "outputId": "dd960831-0239-4114-c085-355ce81f194d"
      },
      "execution_count": 48,
      "outputs": [
        {
          "output_type": "execute_result",
          "data": {
            "text/plain": [
              "<matplotlib.axes._subplots.AxesSubplot at 0x7f2cb7b6c970>"
            ]
          },
          "metadata": {},
          "execution_count": 48
        },
        {
          "output_type": "display_data",
          "data": {
            "text/plain": [
              "<Figure size 1080x720 with 1 Axes>"
            ],
            "image/png": "[encoded data removed]"
          },
          "metadata": {
            "needs_background": "light"
          }
        }
      ]
    },
    {
      "cell_type": "code",
      "source": [
        "plt.figure(figsize=(15,10))\n",
        "sns.violinplot(data=new_df1)"
      ],
      "metadata": {
        "colab": {
          "base_uri": "https://localhost:8080/",
          "height": 609
        },
        "id": "OTddEiP19-xP",
        "outputId": "f716c7c0-f3cd-43a6-df7f-d4caa5e0c8fa"
      },
      "execution_count": 49,
      "outputs": [
        {
          "output_type": "execute_result",
          "data": {
            "text/plain": [
              "<matplotlib.axes._subplots.AxesSubplot at 0x7f2cb755f130>"
            ]
          },
          "metadata": {},
          "execution_count": 49
        },
        {
          "output_type": "display_data",
          "data": {
            "text/plain": [
              "<Figure size 1080x720 with 1 Axes>"
            ],
            "image/png": "[encoded data removed]"
          },
          "metadata": {
            "needs_background": "light"
          }
        }
      ]
    },
    {
      "cell_type": "code",
      "source": [
        "plt.figure(figsize=(15,10))\n",
        "sns.stripplot(data=new_df1)"
      ],
      "metadata": {
        "colab": {
          "base_uri": "https://localhost:8080/",
          "height": 609
        },
        "id": "MCeP0tvE-pSK",
        "outputId": "a2089e0d-f042-49a9-eab5-142dfdbfb302"
      },
      "execution_count": 50,
      "outputs": [
        {
          "output_type": "execute_result",
          "data": {
            "text/plain": [
              "<matplotlib.axes._subplots.AxesSubplot at 0x7f2cb74c40d0>"
            ]
          },
          "metadata": {},
          "execution_count": 50
        },
        {
          "output_type": "display_data",
          "data": {
            "text/plain": [
              "<Figure size 1080x720 with 1 Axes>"
            ],
            "image/png": "[encoded data removed]"
          },
          "metadata": {
            "needs_background": "light"
          }
        }
      ]
    },
    {
      "cell_type": "code",
      "source": [
        "joyplot(new_df1,overlap = 0);"
      ],
      "metadata": {
        "colab": {
          "base_uri": "https://localhost:8080/",
          "height": 294
        },
        "id": "oZb7xFOf-teF",
        "outputId": "fb723b56-ba8c-444f-d001-07de680e2d3d"
      },
      "execution_count": 58,
      "outputs": [
        {
          "output_type": "display_data",
          "data": {
            "text/plain": [
              "<Figure size 432x288 with 12 Axes>"
            ],
            "image/png": "[encoded data removed]"
          },
          "metadata": {
            "needs_background": "light"
          }
        }
      ]
    },
    {
      "cell_type": "code",
      "source": [
        "new_df2 = df[['Oilseeds - Ground-nuts (000 tonnes)',\n",
        "       'Oilseeds - Sesamum (000 tonnes)',\n",
        "       'Oilseeds - Rapeseed and Mustard (000 tonnes)',\n",
        "       'Oilseeds - Linseed (000 tonnes)',\n",
        "       'Oilseeds - Castor seed (000 tonnes)']]"
      ],
      "metadata": {
        "id": "ipoObFeT-5aP"
      },
      "execution_count": 52,
      "outputs": []
    },
    {
      "cell_type": "code",
      "source": [
        "new_df2 = new_df2.rename(columns = {'Oilseeds - Ground-nuts (000 tonnes)' : 'Ground-nuts',\n",
        "       'Oilseeds - Sesamum (000 tonnes)' : 'Sesamum',\n",
        "       'Oilseeds - Rapeseed and Mustard (000 tonnes)' : 'Rapeseed and Mustard',\n",
        "       'Oilseeds - Linseed (000 tonnes)' : 'Linseed',\n",
        "       'Oilseeds - Castor seed (000 tonnes)' : 'Castor seed'\n",
        "       })"
      ],
      "metadata": {
        "id": "g-8Sk_HKAo9N"
      },
      "execution_count": 53,
      "outputs": []
    },
    {
      "cell_type": "code",
      "source": [
        "new_df2"
      ],
      "metadata": {
        "colab": {
          "base_uri": "https://localhost:8080/",
          "height": 452
        },
        "id": "uHEY_5SoA-ZC",
        "outputId": "63745355-2151-4438-9bde-1dabec37369c"
      },
      "execution_count": 54,
      "outputs": [
        {
          "output_type": "execute_result",
          "data": {
            "text/plain": [
              "    Ground-nuts  Sesamum  Rapeseed and Mustard  Linseed  Castor seed\n",
              "0          7028      698                5083.0    209.0          653\n",
              "1          4121      441                3880.0    177.0          428\n",
              "2          8127      782                6291.0    197.0          797\n",
              "3          6774      674                7593.0    170.0          793\n",
              "4          7993      641                8131.0    173.0          991\n",
              "5          4864      618                7438.0    168.0          762\n",
              "6          9183      757                5834.0    163.0         1054\n",
              "7          7168      640                7201.0    169.0         1171\n",
              "8          5428      588                6608.0    154.0         1009\n",
              "9          8266      893                8179.0    147.0         1350\n",
              "10         6964      810                6604.0    153.0         2295\n",
              "11         4694      685                8029.0    149.0         1964\n",
              "12         9714      715                7877.0    142.0         1727"
            ],
            "text/html": [
              "\n",
              "  <div id=\"df-e318032b-7391-4cae-988a-534a2a4d330b\">\n",
              "    <div class=\"colab-df-container\">\n",
              "      <div>\n",
              "<style scoped>\n",
              "    .dataframe tbody tr th:only-of-type {\n",
              "        vertical-align: middle;\n",
              "    }\n",
              "\n",
              "    .dataframe tbody tr th {\n",
              "        vertical-align: top;\n",
              "    }\n",
              "\n",
              "    .dataframe thead th {\n",
              "        text-align: right;\n",
              "    }\n",
              "</style>\n",
              "<table border=\"1\" class=\"dataframe\">\n",
              "  <thead>\n",
              "    <tr style=\"text-align: right;\">\n",
              "      <th></th>\n",
              "      <th>Ground-nuts</th>\n",
              "      <th>Sesamum</th>\n",
              "      <th>Rapeseed and Mustard</th>\n",
              "      <th>Linseed</th>\n",
              "      <th>Castor seed</th>\n",
              "    </tr>\n",
              "  </thead>\n",
              "  <tbody>\n",
              "    <tr>\n",
              "      <th>0</th>\n",
              "      <td>7028</td>\n",
              "      <td>698</td>\n",
              "      <td>5083.0</td>\n",
              "      <td>209.0</td>\n",
              "      <td>653</td>\n",
              "    </tr>\n",
              "    <tr>\n",
              "      <th>1</th>\n",
              "      <td>4121</td>\n",
              "      <td>441</td>\n",
              "      <td>3880.0</td>\n",
              "      <td>177.0</td>\n",
              "      <td>428</td>\n",
              "    </tr>\n",
              "    <tr>\n",
              "      <th>2</th>\n",
              "      <td>8127</td>\n",
              "      <td>782</td>\n",
              "      <td>6291.0</td>\n",
              "      <td>197.0</td>\n",
              "      <td>797</td>\n",
              "    </tr>\n",
              "    <tr>\n",
              "      <th>3</th>\n",
              "      <td>6774</td>\n",
              "      <td>674</td>\n",
              "      <td>7593.0</td>\n",
              "      <td>170.0</td>\n",
              "      <td>793</td>\n",
              "    </tr>\n",
              "    <tr>\n",
              "      <th>4</th>\n",
              "      <td>7993</td>\n",
              "      <td>641</td>\n",
              "      <td>8131.0</td>\n",
              "      <td>173.0</td>\n",
              "      <td>991</td>\n",
              "    </tr>\n",
              "    <tr>\n",
              "      <th>5</th>\n",
              "      <td>4864</td>\n",
              "      <td>618</td>\n",
              "      <td>7438.0</td>\n",
              "      <td>168.0</td>\n",
              "      <td>762</td>\n",
              "    </tr>\n",
              "    <tr>\n",
              "      <th>6</th>\n",
              "      <td>9183</td>\n",
              "      <td>757</td>\n",
              "      <td>5834.0</td>\n",
              "      <td>163.0</td>\n",
              "      <td>1054</td>\n",
              "    </tr>\n",
              "    <tr>\n",
              "      <th>7</th>\n",
              "      <td>7168</td>\n",
              "      <td>640</td>\n",
              "      <td>7201.0</td>\n",
              "      <td>169.0</td>\n",
              "      <td>1171</td>\n",
              "    </tr>\n",
              "    <tr>\n",
              "      <th>8</th>\n",
              "      <td>5428</td>\n",
              "      <td>588</td>\n",
              "      <td>6608.0</td>\n",
              "      <td>154.0</td>\n",
              "      <td>1009</td>\n",
              "    </tr>\n",
              "    <tr>\n",
              "      <th>9</th>\n",
              "      <td>8266</td>\n",
              "      <td>893</td>\n",
              "      <td>8179.0</td>\n",
              "      <td>147.0</td>\n",
              "      <td>1350</td>\n",
              "    </tr>\n",
              "    <tr>\n",
              "      <th>10</th>\n",
              "      <td>6964</td>\n",
              "      <td>810</td>\n",
              "      <td>6604.0</td>\n",
              "      <td>153.0</td>\n",
              "      <td>2295</td>\n",
              "    </tr>\n",
              "    <tr>\n",
              "      <th>11</th>\n",
              "      <td>4694</td>\n",
              "      <td>685</td>\n",
              "      <td>8029.0</td>\n",
              "      <td>149.0</td>\n",
              "      <td>1964</td>\n",
              "    </tr>\n",
              "    <tr>\n",
              "      <th>12</th>\n",
              "      <td>9714</td>\n",
              "      <td>715</td>\n",
              "      <td>7877.0</td>\n",
              "      <td>142.0</td>\n",
              "      <td>1727</td>\n",
              "    </tr>\n",
              "  </tbody>\n",
              "</table>\n",
              "</div>\n",
              "      <button class=\"colab-df-convert\" onclick=\"convertToInteractive('df-e318032b-7391-4cae-988a-534a2a4d330b')\"\n",
              "              title=\"Convert this dataframe to an interactive table.\"\n",
              "              style=\"display:none;\">\n",
              "        \n",
              "  <svg xmlns=\"http://www.w3.org/2000/svg\" height=\"24px\"viewBox=\"0 0 24 24\"\n",
              "       width=\"24px\">\n",
              "    <path d=\"M0 0h24v24H0V0z\" fill=\"none\"/>\n",
              "    <path d=\"M18.56 5.44l.94 2.06.94-2.06 2.06-.94-2.06-.94-.94-2.06-.94 2.06-2.06.94zm-11 1L8.5 8.5l.94-2.06 2.06-.94-2.06-.94L8.5 2.5l-.94 2.06-2.06.94zm10 10l.94 2.06.94-2.06 2.06-.94-2.06-.94-.94-2.06-.94 2.06-2.06.94z\"/><path d=\"M17.41 7.96l-1.37-1.37c-.4-.4-.92-.59-1.43-.59-.52 0-1.04.2-1.43.59L10.3 9.45l-7.72 7.72c-.78.78-.78 2.05 0 2.83L4 21.41c.39.39.9.59 1.41.59.51 0 1.02-.2 1.41-.59l7.78-7.78 2.81-2.81c.8-.78.8-2.07 0-2.86zM5.41 20L4 18.59l7.72-7.72 1.47 1.35L5.41 20z\"/>\n",
              "  </svg>\n",
              "      </button>\n",
              "      \n",
              "  <style>\n",
              "    .colab-df-container {\n",
              "      display:flex;\n",
              "      flex-wrap:wrap;\n",
              "      gap: 12px;\n",
              "    }\n",
              "\n",
              "    .colab-df-convert {\n",
              "      background-color: #E8F0FE;\n",
              "      border: none;\n",
              "      border-radius: 50%;\n",
              "      cursor: pointer;\n",
              "      display: none;\n",
              "      fill: #1967D2;\n",
              "      height: 32px;\n",
              "      padding: 0 0 0 0;\n",
              "      width: 32px;\n",
              "    }\n",
              "\n",
              "    .colab-df-convert:hover {\n",
              "      background-color: #E2EBFA;\n",
              "      box-shadow: 0px 1px 2px rgba(60, 64, 67, 0.3), 0px 1px 3px 1px rgba(60, 64, 67, 0.15);\n",
              "      fill: #174EA6;\n",
              "    }\n",
              "\n",
              "    [theme=dark] .colab-df-convert {\n",
              "      background-color: #3B4455;\n",
              "      fill: #D2E3FC;\n",
              "    }\n",
              "\n",
              "    [theme=dark] .colab-df-convert:hover {\n",
              "      background-color: #434B5C;\n",
              "      box-shadow: 0px 1px 3px 1px rgba(0, 0, 0, 0.15);\n",
              "      filter: drop-shadow(0px 1px 2px rgba(0, 0, 0, 0.3));\n",
              "      fill: #FFFFFF;\n",
              "    }\n",
              "  </style>\n",
              "\n",
              "      <script>\n",
              "        const buttonEl =\n",
              "          document.querySelector('#df-e318032b-7391-4cae-988a-534a2a4d330b button.colab-df-convert');\n",
              "        buttonEl.style.display =\n",
              "          google.colab.kernel.accessAllowed ? 'block' : 'none';\n",
              "\n",
              "        async function convertToInteractive(key) {\n",
              "          const element = document.querySelector('#df-e318032b-7391-4cae-988a-534a2a4d330b');\n",
              "          const dataTable =\n",
              "            await google.colab.kernel.invokeFunction('convertToInteractive',\n",
              "                                                     [key], {});\n",
              "          if (!dataTable) return;\n",
              "\n",
              "          const docLinkHtml = 'Like what you see? Visit the ' +\n",
              "            '<a target=\"_blank\" href=https://colab.research.google.com/notebooks/data_table.ipynb>data table notebook</a>'\n",
              "            + ' to learn more about interactive tables.';\n",
              "          element.innerHTML = '';\n",
              "          dataTable['output_type'] = 'display_data';\n",
              "          await google.colab.output.renderOutput(dataTable, element);\n",
              "          const docLink = document.createElement('div');\n",
              "          docLink.innerHTML = docLinkHtml;\n",
              "          element.appendChild(docLink);\n",
              "        }\n",
              "      </script>\n",
              "    </div>\n",
              "  </div>\n",
              "  "
            ]
          },
          "metadata": {},
          "execution_count": 54
        }
      ]
    },
    {
      "cell_type": "code",
      "source": [
        "plt.figure(figsize=(15,10))\n",
        "sns.boxplot(data=new_df2)"
      ],
      "metadata": {
        "colab": {
          "base_uri": "https://localhost:8080/",
          "height": 609
        },
        "id": "MQv14NUlBF9p",
        "outputId": "a7aa5c03-34a5-4d85-d8ca-bf6d4e81fbca"
      },
      "execution_count": 55,
      "outputs": [
        {
          "output_type": "execute_result",
          "data": {
            "text/plain": [
              "<matplotlib.axes._subplots.AxesSubplot at 0x7f2cb713e190>"
            ]
          },
          "metadata": {},
          "execution_count": 55
        },
        {
          "output_type": "display_data",
          "data": {
            "text/plain": [
              "<Figure size 1080x720 with 1 Axes>"
            ],
            "image/png": "[encoded data removed]"
          },
          "metadata": {
            "needs_background": "light"
          }
        }
      ]
    },
    {
      "cell_type": "code",
      "source": [
        "plt.figure(figsize=(15,10))\n",
        "sns.violinplot(data=new_df2)"
      ],
      "metadata": {
        "colab": {
          "base_uri": "https://localhost:8080/",
          "height": 609
        },
        "id": "SreUumNDBaK3",
        "outputId": "a99e6817-8751-43c1-c4f8-caff8557b66e"
      },
      "execution_count": 56,
      "outputs": [
        {
          "output_type": "execute_result",
          "data": {
            "text/plain": [
              "<matplotlib.axes._subplots.AxesSubplot at 0x7f2cb75ad8e0>"
            ]
          },
          "metadata": {},
          "execution_count": 56
        },
        {
          "output_type": "display_data",
          "data": {
            "text/plain": [
              "<Figure size 1080x720 with 1 Axes>"
            ],
            "image/png": "[encoded data removed]"
          },
          "metadata": {
            "needs_background": "light"
          }
        }
      ]
    },
    {
      "cell_type": "code",
      "source": [
        "plt.figure(figsize=(15,10))\n",
        "sns.stripplot(data=new_df2)"
      ],
      "metadata": {
        "colab": {
          "base_uri": "https://localhost:8080/",
          "height": 609
        },
        "id": "dRiY4oyXBh5Y",
        "outputId": "7b943133-72d0-437d-c8c7-8e8cbc85d304"
      },
      "execution_count": 59,
      "outputs": [
        {
          "output_type": "execute_result",
          "data": {
            "text/plain": [
              "<matplotlib.axes._subplots.AxesSubplot at 0x7f2cb6fcd4f0>"
            ]
          },
          "metadata": {},
          "execution_count": 59
        },
        {
          "output_type": "display_data",
          "data": {
            "text/plain": [
              "<Figure size 1080x720 with 1 Axes>"
            ],
            "image/png": "[encoded data removed]"
          },
          "metadata": {
            "needs_background": "light"
          }
        }
      ]
    },
    {
      "cell_type": "code",
      "source": [
        "joyplot(new_df2,overlap = 0);"
      ],
      "metadata": {
        "colab": {
          "base_uri": "https://localhost:8080/",
          "height": 296
        },
        "id": "fbmCwiNGBrLH",
        "outputId": "54a6ef82-d644-46c3-b0e1-3d70d0a7db0c"
      },
      "execution_count": 60,
      "outputs": [
        {
          "output_type": "display_data",
          "data": {
            "text/plain": [
              "<Figure size 432x288 with 6 Axes>"
            ],
            "image/png": "[encoded data removed]"
          },
          "metadata": {
            "needs_background": "light"
          }
        }
      ]
    }
  ]
}