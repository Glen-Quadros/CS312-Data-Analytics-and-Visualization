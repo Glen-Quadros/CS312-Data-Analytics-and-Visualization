{
  "nbformat": 4,
  "nbformat_minor": 0,
  "metadata": {
    "colab": {
      "provenance": []
    },
    "kernelspec": {
      "name": "python3",
      "display_name": "Python 3"
    },
    "language_info": {
      "name": "python"
    }
  },
  "cells": [
    {
      "cell_type": "markdown",
      "source": [
        "# Assignment 4\n",
        "\n",
        "## Glen Quadros"
      ],
      "metadata": {
        "id": "YeBp83HT71kN"
      }
    },
    {
      "cell_type": "code",
      "execution_count": 1,
      "metadata": {
        "id": "LeYIRDZd6tHO"
      },
      "outputs": [],
      "source": [
        "import pandas as pd\n",
        "import seaborn as sns\n",
        "import matplotlib.pyplot as plt"
      ]
    },
    {
      "cell_type": "code",
      "source": [
        "egg_df = pd.read_csv('/content/Egg_Production_2007_2012.csv')"
      ],
      "metadata": {
        "id": "5YJrToCx7c16"
      },
      "execution_count": 2,
      "outputs": []
    },
    {
      "cell_type": "code",
      "source": [
        "milk_df = pd.read_csv('/content/Milk_Production_2007_2012.csv')"
      ],
      "metadata": {
        "id": "HsuK4fCl7wGC"
      },
      "execution_count": 3,
      "outputs": []
    },
    {
      "cell_type": "markdown",
      "source": [
        "## 1. Merge two data frames such that the new data frame has multi-level columns (like years under milk and eggs). Try to change the column names if required."
      ],
      "metadata": {
        "id": "lPFYI82S7gya"
      }
    },
    {
      "cell_type": "code",
      "source": [
        "egg_df.head()"
      ],
      "metadata": {
        "colab": {
          "base_uri": "https://localhost:8080/",
          "height": 282
        },
        "id": "w5S3HLzo7hid",
        "outputId": "d645ed63-58d8-4e11-b5fd-9e6e786a5924"
      },
      "execution_count": 4,
      "outputs": [
        {
          "output_type": "execute_result",
          "data": {
            "text/plain": [
              "          States/Uts  2007-08 (In lakh nos.)  2008-09 (In lakh nos.)  \\\n",
              "0     Andhra Pradesh                  175884                  183446   \n",
              "1  Arunachal Pradesh                     394                     361   \n",
              "2              Assam                    4910                    4659   \n",
              "3              Bihar                   10707                   10740   \n",
              "4       Chhattisgarh                    9184                    9738   \n",
              "\n",
              "   2009-10 (In lakh nos.)  2010-11 (In lakh nos.)  2011-12 (In lakh nos.)  \n",
              "0                  193958                  201277                  212103  \n",
              "1                     380                     407                     419  \n",
              "2                    4671                    4707                    4705  \n",
              "3                   11002                    7446                    7552  \n",
              "4                   10520                   12454                   12984  "
            ],
            "text/html": [
              "\n",
              "  <div id=\"df-c2e73ef2-0980-42a3-9569-d52a0f85c792\">\n",
              "    <div class=\"colab-df-container\">\n",
              "      <div>\n",
              "<style scoped>\n",
              "    .dataframe tbody tr th:only-of-type {\n",
              "        vertical-align: middle;\n",
              "    }\n",
              "\n",
              "    .dataframe tbody tr th {\n",
              "        vertical-align: top;\n",
              "    }\n",
              "\n",
              "    .dataframe thead th {\n",
              "        text-align: right;\n",
              "    }\n",
              "</style>\n",
              "<table border=\"1\" class=\"dataframe\">\n",
              "  <thead>\n",
              "    <tr style=\"text-align: right;\">\n",
              "      <th></th>\n",
              "      <th>States/Uts</th>\n",
              "      <th>2007-08 (In lakh nos.)</th>\n",
              "      <th>2008-09 (In lakh nos.)</th>\n",
              "      <th>2009-10 (In lakh nos.)</th>\n",
              "      <th>2010-11 (In lakh nos.)</th>\n",
              "      <th>2011-12 (In lakh nos.)</th>\n",
              "    </tr>\n",
              "  </thead>\n",
              "  <tbody>\n",
              "    <tr>\n",
              "      <th>0</th>\n",
              "      <td>Andhra Pradesh</td>\n",
              "      <td>175884</td>\n",
              "      <td>183446</td>\n",
              "      <td>193958</td>\n",
              "      <td>201277</td>\n",
              "      <td>212103</td>\n",
              "    </tr>\n",
              "    <tr>\n",
              "      <th>1</th>\n",
              "      <td>Arunachal Pradesh</td>\n",
              "      <td>394</td>\n",
              "      <td>361</td>\n",
              "      <td>380</td>\n",
              "      <td>407</td>\n",
              "      <td>419</td>\n",
              "    </tr>\n",
              "    <tr>\n",
              "      <th>2</th>\n",
              "      <td>Assam</td>\n",
              "      <td>4910</td>\n",
              "      <td>4659</td>\n",
              "      <td>4671</td>\n",
              "      <td>4707</td>\n",
              "      <td>4705</td>\n",
              "    </tr>\n",
              "    <tr>\n",
              "      <th>3</th>\n",
              "      <td>Bihar</td>\n",
              "      <td>10707</td>\n",
              "      <td>10740</td>\n",
              "      <td>11002</td>\n",
              "      <td>7446</td>\n",
              "      <td>7552</td>\n",
              "    </tr>\n",
              "    <tr>\n",
              "      <th>4</th>\n",
              "      <td>Chhattisgarh</td>\n",
              "      <td>9184</td>\n",
              "      <td>9738</td>\n",
              "      <td>10520</td>\n",
              "      <td>12454</td>\n",
              "      <td>12984</td>\n",
              "    </tr>\n",
              "  </tbody>\n",
              "</table>\n",
              "</div>\n",
              "      <button class=\"colab-df-convert\" onclick=\"convertToInteractive('df-c2e73ef2-0980-42a3-9569-d52a0f85c792')\"\n",
              "              title=\"Convert this dataframe to an interactive table.\"\n",
              "              style=\"display:none;\">\n",
              "        \n",
              "  <svg xmlns=\"http://www.w3.org/2000/svg\" height=\"24px\"viewBox=\"0 0 24 24\"\n",
              "       width=\"24px\">\n",
              "    <path d=\"M0 0h24v24H0V0z\" fill=\"none\"/>\n",
              "    <path d=\"M18.56 5.44l.94 2.06.94-2.06 2.06-.94-2.06-.94-.94-2.06-.94 2.06-2.06.94zm-11 1L8.5 8.5l.94-2.06 2.06-.94-2.06-.94L8.5 2.5l-.94 2.06-2.06.94zm10 10l.94 2.06.94-2.06 2.06-.94-2.06-.94-.94-2.06-.94 2.06-2.06.94z\"/><path d=\"M17.41 7.96l-1.37-1.37c-.4-.4-.92-.59-1.43-.59-.52 0-1.04.2-1.43.59L10.3 9.45l-7.72 7.72c-.78.78-.78 2.05 0 2.83L4 21.41c.39.39.9.59 1.41.59.51 0 1.02-.2 1.41-.59l7.78-7.78 2.81-2.81c.8-.78.8-2.07 0-2.86zM5.41 20L4 18.59l7.72-7.72 1.47 1.35L5.41 20z\"/>\n",
              "  </svg>\n",
              "      </button>\n",
              "      \n",
              "  <style>\n",
              "    .colab-df-container {\n",
              "      display:flex;\n",
              "      flex-wrap:wrap;\n",
              "      gap: 12px;\n",
              "    }\n",
              "\n",
              "    .colab-df-convert {\n",
              "      background-color: #E8F0FE;\n",
              "      border: none;\n",
              "      border-radius: 50%;\n",
              "      cursor: pointer;\n",
              "      display: none;\n",
              "      fill: #1967D2;\n",
              "      height: 32px;\n",
              "      padding: 0 0 0 0;\n",
              "      width: 32px;\n",
              "    }\n",
              "\n",
              "    .colab-df-convert:hover {\n",
              "      background-color: #E2EBFA;\n",
              "      box-shadow: 0px 1px 2px rgba(60, 64, 67, 0.3), 0px 1px 3px 1px rgba(60, 64, 67, 0.15);\n",
              "      fill: #174EA6;\n",
              "    }\n",
              "\n",
              "    [theme=dark] .colab-df-convert {\n",
              "      background-color: #3B4455;\n",
              "      fill: #D2E3FC;\n",
              "    }\n",
              "\n",
              "    [theme=dark] .colab-df-convert:hover {\n",
              "      background-color: #434B5C;\n",
              "      box-shadow: 0px 1px 3px 1px rgba(0, 0, 0, 0.15);\n",
              "      filter: drop-shadow(0px 1px 2px rgba(0, 0, 0, 0.3));\n",
              "      fill: #FFFFFF;\n",
              "    }\n",
              "  </style>\n",
              "\n",
              "      <script>\n",
              "        const buttonEl =\n",
              "          document.querySelector('#df-c2e73ef2-0980-42a3-9569-d52a0f85c792 button.colab-df-convert');\n",
              "        buttonEl.style.display =\n",
              "          google.colab.kernel.accessAllowed ? 'block' : 'none';\n",
              "\n",
              "        async function convertToInteractive(key) {\n",
              "          const element = document.querySelector('#df-c2e73ef2-0980-42a3-9569-d52a0f85c792');\n",
              "          const dataTable =\n",
              "            await google.colab.kernel.invokeFunction('convertToInteractive',\n",
              "                                                     [key], {});\n",
              "          if (!dataTable) return;\n",
              "\n",
              "          const docLinkHtml = 'Like what you see? Visit the ' +\n",
              "            '<a target=\"_blank\" href=https://colab.research.google.com/notebooks/data_table.ipynb>data table notebook</a>'\n",
              "            + ' to learn more about interactive tables.';\n",
              "          element.innerHTML = '';\n",
              "          dataTable['output_type'] = 'display_data';\n",
              "          await google.colab.output.renderOutput(dataTable, element);\n",
              "          const docLink = document.createElement('div');\n",
              "          docLink.innerHTML = docLinkHtml;\n",
              "          element.appendChild(docLink);\n",
              "        }\n",
              "      </script>\n",
              "    </div>\n",
              "  </div>\n",
              "  "
            ]
          },
          "metadata": {},
          "execution_count": 4
        }
      ]
    },
    {
      "cell_type": "code",
      "source": [
        "milk_df.head()"
      ],
      "metadata": {
        "colab": {
          "base_uri": "https://localhost:8080/",
          "height": 204
        },
        "id": "qxr9fGgZ8DY6",
        "outputId": "17b91f88-545d-4099-fc77-6cffeecb1e49"
      },
      "execution_count": 5,
      "outputs": [
        {
          "output_type": "execute_result",
          "data": {
            "text/plain": [
              "          States/Uts  2007-08  2008-09  2009-10  2010-11  2011-12\n",
              "0     Andhra Pradesh     8925     9570    10429    11203    12088\n",
              "1  Arunachal Pradesh       32       24       26       28       22\n",
              "2              Assam      752      753      756      790      796\n",
              "3              Bihar     5783     5934     6124     6517     6643\n",
              "4       Chhattisgarh      866      908      956     1029     1119"
            ],
            "text/html": [
              "\n",
              "  <div id=\"df-97fdc30c-0cdc-4e42-9558-9ef2731dcc6b\">\n",
              "    <div class=\"colab-df-container\">\n",
              "      <div>\n",
              "<style scoped>\n",
              "    .dataframe tbody tr th:only-of-type {\n",
              "        vertical-align: middle;\n",
              "    }\n",
              "\n",
              "    .dataframe tbody tr th {\n",
              "        vertical-align: top;\n",
              "    }\n",
              "\n",
              "    .dataframe thead th {\n",
              "        text-align: right;\n",
              "    }\n",
              "</style>\n",
              "<table border=\"1\" class=\"dataframe\">\n",
              "  <thead>\n",
              "    <tr style=\"text-align: right;\">\n",
              "      <th></th>\n",
              "      <th>States/Uts</th>\n",
              "      <th>2007-08</th>\n",
              "      <th>2008-09</th>\n",
              "      <th>2009-10</th>\n",
              "      <th>2010-11</th>\n",
              "      <th>2011-12</th>\n",
              "    </tr>\n",
              "  </thead>\n",
              "  <tbody>\n",
              "    <tr>\n",
              "      <th>0</th>\n",
              "      <td>Andhra Pradesh</td>\n",
              "      <td>8925</td>\n",
              "      <td>9570</td>\n",
              "      <td>10429</td>\n",
              "      <td>11203</td>\n",
              "      <td>12088</td>\n",
              "    </tr>\n",
              "    <tr>\n",
              "      <th>1</th>\n",
              "      <td>Arunachal Pradesh</td>\n",
              "      <td>32</td>\n",
              "      <td>24</td>\n",
              "      <td>26</td>\n",
              "      <td>28</td>\n",
              "      <td>22</td>\n",
              "    </tr>\n",
              "    <tr>\n",
              "      <th>2</th>\n",
              "      <td>Assam</td>\n",
              "      <td>752</td>\n",
              "      <td>753</td>\n",
              "      <td>756</td>\n",
              "      <td>790</td>\n",
              "      <td>796</td>\n",
              "    </tr>\n",
              "    <tr>\n",
              "      <th>3</th>\n",
              "      <td>Bihar</td>\n",
              "      <td>5783</td>\n",
              "      <td>5934</td>\n",
              "      <td>6124</td>\n",
              "      <td>6517</td>\n",
              "      <td>6643</td>\n",
              "    </tr>\n",
              "    <tr>\n",
              "      <th>4</th>\n",
              "      <td>Chhattisgarh</td>\n",
              "      <td>866</td>\n",
              "      <td>908</td>\n",
              "      <td>956</td>\n",
              "      <td>1029</td>\n",
              "      <td>1119</td>\n",
              "    </tr>\n",
              "  </tbody>\n",
              "</table>\n",
              "</div>\n",
              "      <button class=\"colab-df-convert\" onclick=\"convertToInteractive('df-97fdc30c-0cdc-4e42-9558-9ef2731dcc6b')\"\n",
              "              title=\"Convert this dataframe to an interactive table.\"\n",
              "              style=\"display:none;\">\n",
              "        \n",
              "  <svg xmlns=\"http://www.w3.org/2000/svg\" height=\"24px\"viewBox=\"0 0 24 24\"\n",
              "       width=\"24px\">\n",
              "    <path d=\"M0 0h24v24H0V0z\" fill=\"none\"/>\n",
              "    <path d=\"M18.56 5.44l.94 2.06.94-2.06 2.06-.94-2.06-.94-.94-2.06-.94 2.06-2.06.94zm-11 1L8.5 8.5l.94-2.06 2.06-.94-2.06-.94L8.5 2.5l-.94 2.06-2.06.94zm10 10l.94 2.06.94-2.06 2.06-.94-2.06-.94-.94-2.06-.94 2.06-2.06.94z\"/><path d=\"M17.41 7.96l-1.37-1.37c-.4-.4-.92-.59-1.43-.59-.52 0-1.04.2-1.43.59L10.3 9.45l-7.72 7.72c-.78.78-.78 2.05 0 2.83L4 21.41c.39.39.9.59 1.41.59.51 0 1.02-.2 1.41-.59l7.78-7.78 2.81-2.81c.8-.78.8-2.07 0-2.86zM5.41 20L4 18.59l7.72-7.72 1.47 1.35L5.41 20z\"/>\n",
              "  </svg>\n",
              "      </button>\n",
              "      \n",
              "  <style>\n",
              "    .colab-df-container {\n",
              "      display:flex;\n",
              "      flex-wrap:wrap;\n",
              "      gap: 12px;\n",
              "    }\n",
              "\n",
              "    .colab-df-convert {\n",
              "      background-color: #E8F0FE;\n",
              "      border: none;\n",
              "      border-radius: 50%;\n",
              "      cursor: pointer;\n",
              "      display: none;\n",
              "      fill: #1967D2;\n",
              "      height: 32px;\n",
              "      padding: 0 0 0 0;\n",
              "      width: 32px;\n",
              "    }\n",
              "\n",
              "    .colab-df-convert:hover {\n",
              "      background-color: #E2EBFA;\n",
              "      box-shadow: 0px 1px 2px rgba(60, 64, 67, 0.3), 0px 1px 3px 1px rgba(60, 64, 67, 0.15);\n",
              "      fill: #174EA6;\n",
              "    }\n",
              "\n",
              "    [theme=dark] .colab-df-convert {\n",
              "      background-color: #3B4455;\n",
              "      fill: #D2E3FC;\n",
              "    }\n",
              "\n",
              "    [theme=dark] .colab-df-convert:hover {\n",
              "      background-color: #434B5C;\n",
              "      box-shadow: 0px 1px 3px 1px rgba(0, 0, 0, 0.15);\n",
              "      filter: drop-shadow(0px 1px 2px rgba(0, 0, 0, 0.3));\n",
              "      fill: #FFFFFF;\n",
              "    }\n",
              "  </style>\n",
              "\n",
              "      <script>\n",
              "        const buttonEl =\n",
              "          document.querySelector('#df-97fdc30c-0cdc-4e42-9558-9ef2731dcc6b button.colab-df-convert');\n",
              "        buttonEl.style.display =\n",
              "          google.colab.kernel.accessAllowed ? 'block' : 'none';\n",
              "\n",
              "        async function convertToInteractive(key) {\n",
              "          const element = document.querySelector('#df-97fdc30c-0cdc-4e42-9558-9ef2731dcc6b');\n",
              "          const dataTable =\n",
              "            await google.colab.kernel.invokeFunction('convertToInteractive',\n",
              "                                                     [key], {});\n",
              "          if (!dataTable) return;\n",
              "\n",
              "          const docLinkHtml = 'Like what you see? Visit the ' +\n",
              "            '<a target=\"_blank\" href=https://colab.research.google.com/notebooks/data_table.ipynb>data table notebook</a>'\n",
              "            + ' to learn more about interactive tables.';\n",
              "          element.innerHTML = '';\n",
              "          dataTable['output_type'] = 'display_data';\n",
              "          await google.colab.output.renderOutput(dataTable, element);\n",
              "          const docLink = document.createElement('div');\n",
              "          docLink.innerHTML = docLinkHtml;\n",
              "          element.appendChild(docLink);\n",
              "        }\n",
              "      </script>\n",
              "    </div>\n",
              "  </div>\n",
              "  "
            ]
          },
          "metadata": {},
          "execution_count": 5
        }
      ]
    },
    {
      "cell_type": "code",
      "source": [
        "egg_df = egg_df.set_index('States/Uts')"
      ],
      "metadata": {
        "id": "Q8srhImB8Gcy"
      },
      "execution_count": 6,
      "outputs": []
    },
    {
      "cell_type": "code",
      "source": [
        "milk_df = milk_df.set_index('States/Uts')"
      ],
      "metadata": {
        "id": "AC4MhEqQ8Xqx"
      },
      "execution_count": 7,
      "outputs": []
    },
    {
      "cell_type": "code",
      "source": [
        "columns1 = [('Milk','2007-08'),('Milk','2008-09'),('Milk','2009-10'),('Milk','2010-11'),('Milk','2011-12')]\n",
        "columns2 = [('Eggs','2007-08 (In lakh nos.)'),('Eggs','2008-09 (In lakh nos.)'),('Eggs','2009-10 (In lakh nos.)'),('Eggs','2010-11 (In lakh nos.)'),('Eggs','2011-12 (In lakh nos.)')]"
      ],
      "metadata": {
        "id": "JsSKmfG-8cr0"
      },
      "execution_count": 8,
      "outputs": []
    },
    {
      "cell_type": "code",
      "source": [
        "egg_df.columns = pd.MultiIndex.from_tuples(columns2)"
      ],
      "metadata": {
        "id": "nlsgbcdk8qFT"
      },
      "execution_count": 9,
      "outputs": []
    },
    {
      "cell_type": "code",
      "source": [
        "milk_df.columns = pd.MultiIndex.from_tuples(columns1)"
      ],
      "metadata": {
        "id": "GtRFEvri8uCf"
      },
      "execution_count": 10,
      "outputs": []
    },
    {
      "cell_type": "code",
      "source": [
        "df = milk_df.join(egg_df)"
      ],
      "metadata": {
        "id": "VCtPySSc8x5Z"
      },
      "execution_count": 11,
      "outputs": []
    },
    {
      "cell_type": "code",
      "source": [
        "df.head()"
      ],
      "metadata": {
        "colab": {
          "base_uri": "https://localhost:8080/",
          "height": 361
        },
        "id": "2xGF5w8H9Gzr",
        "outputId": "14b5b6e0-3641-43cd-c151-639e25dca5a5"
      },
      "execution_count": 12,
      "outputs": [
        {
          "output_type": "execute_result",
          "data": {
            "text/plain": [
              "                     Milk                                  \\\n",
              "                  2007-08 2008-09 2009-10 2010-11 2011-12   \n",
              "States/Uts                                                  \n",
              "Andhra Pradesh       8925    9570   10429   11203   12088   \n",
              "Arunachal Pradesh      32      24      26      28      22   \n",
              "Assam                 752     753     756     790     796   \n",
              "Bihar                5783    5934    6124    6517    6643   \n",
              "Chhattisgarh          866     908     956    1029    1119   \n",
              "\n",
              "                                    Eggs                         \\\n",
              "                  2007-08 (In lakh nos.) 2008-09 (In lakh nos.)   \n",
              "States/Uts                                                        \n",
              "Andhra Pradesh                  175884.0               183446.0   \n",
              "Arunachal Pradesh                  394.0                  361.0   \n",
              "Assam                             4910.0                 4659.0   \n",
              "Bihar                            10707.0                10740.0   \n",
              "Chhattisgarh                      9184.0                 9738.0   \n",
              "\n",
              "                                                                 \\\n",
              "                  2009-10 (In lakh nos.) 2010-11 (In lakh nos.)   \n",
              "States/Uts                                                        \n",
              "Andhra Pradesh                  193958.0               201277.0   \n",
              "Arunachal Pradesh                  380.0                  407.0   \n",
              "Assam                             4671.0                 4707.0   \n",
              "Bihar                            11002.0                 7446.0   \n",
              "Chhattisgarh                     10520.0                12454.0   \n",
              "\n",
              "                                          \n",
              "                  2011-12 (In lakh nos.)  \n",
              "States/Uts                                \n",
              "Andhra Pradesh                  212103.0  \n",
              "Arunachal Pradesh                  419.0  \n",
              "Assam                             4705.0  \n",
              "Bihar                             7552.0  \n",
              "Chhattisgarh                     12984.0  "
            ],
            "text/html": [
              "\n",
              "  <div id=\"df-1dde2729-a330-41ae-a791-93ddd555ef87\">\n",
              "    <div class=\"colab-df-container\">\n",
              "      <div>\n",
              "<style scoped>\n",
              "    .dataframe tbody tr th:only-of-type {\n",
              "        vertical-align: middle;\n",
              "    }\n",
              "\n",
              "    .dataframe tbody tr th {\n",
              "        vertical-align: top;\n",
              "    }\n",
              "\n",
              "    .dataframe thead tr th {\n",
              "        text-align: left;\n",
              "    }\n",
              "\n",
              "    .dataframe thead tr:last-of-type th {\n",
              "        text-align: right;\n",
              "    }\n",
              "</style>\n",
              "<table border=\"1\" class=\"dataframe\">\n",
              "  <thead>\n",
              "    <tr>\n",
              "      <th></th>\n",
              "      <th colspan=\"5\" halign=\"left\">Milk</th>\n",
              "      <th colspan=\"5\" halign=\"left\">Eggs</th>\n",
              "    </tr>\n",
              "    <tr>\n",
              "      <th></th>\n",
              "      <th>2007-08</th>\n",
              "      <th>2008-09</th>\n",
              "      <th>2009-10</th>\n",
              "      <th>2010-11</th>\n",
              "      <th>2011-12</th>\n",
              "      <th>2007-08 (In lakh nos.)</th>\n",
              "      <th>2008-09 (In lakh nos.)</th>\n",
              "      <th>2009-10 (In lakh nos.)</th>\n",
              "      <th>2010-11 (In lakh nos.)</th>\n",
              "      <th>2011-12 (In lakh nos.)</th>\n",
              "    </tr>\n",
              "    <tr>\n",
              "      <th>States/Uts</th>\n",
              "      <th></th>\n",
              "      <th></th>\n",
              "      <th></th>\n",
              "      <th></th>\n",
              "      <th></th>\n",
              "      <th></th>\n",
              "      <th></th>\n",
              "      <th></th>\n",
              "      <th></th>\n",
              "      <th></th>\n",
              "    </tr>\n",
              "  </thead>\n",
              "  <tbody>\n",
              "    <tr>\n",
              "      <th>Andhra Pradesh</th>\n",
              "      <td>8925</td>\n",
              "      <td>9570</td>\n",
              "      <td>10429</td>\n",
              "      <td>11203</td>\n",
              "      <td>12088</td>\n",
              "      <td>175884.0</td>\n",
              "      <td>183446.0</td>\n",
              "      <td>193958.0</td>\n",
              "      <td>201277.0</td>\n",
              "      <td>212103.0</td>\n",
              "    </tr>\n",
              "    <tr>\n",
              "      <th>Arunachal Pradesh</th>\n",
              "      <td>32</td>\n",
              "      <td>24</td>\n",
              "      <td>26</td>\n",
              "      <td>28</td>\n",
              "      <td>22</td>\n",
              "      <td>394.0</td>\n",
              "      <td>361.0</td>\n",
              "      <td>380.0</td>\n",
              "      <td>407.0</td>\n",
              "      <td>419.0</td>\n",
              "    </tr>\n",
              "    <tr>\n",
              "      <th>Assam</th>\n",
              "      <td>752</td>\n",
              "      <td>753</td>\n",
              "      <td>756</td>\n",
              "      <td>790</td>\n",
              "      <td>796</td>\n",
              "      <td>4910.0</td>\n",
              "      <td>4659.0</td>\n",
              "      <td>4671.0</td>\n",
              "      <td>4707.0</td>\n",
              "      <td>4705.0</td>\n",
              "    </tr>\n",
              "    <tr>\n",
              "      <th>Bihar</th>\n",
              "      <td>5783</td>\n",
              "      <td>5934</td>\n",
              "      <td>6124</td>\n",
              "      <td>6517</td>\n",
              "      <td>6643</td>\n",
              "      <td>10707.0</td>\n",
              "      <td>10740.0</td>\n",
              "      <td>11002.0</td>\n",
              "      <td>7446.0</td>\n",
              "      <td>7552.0</td>\n",
              "    </tr>\n",
              "    <tr>\n",
              "      <th>Chhattisgarh</th>\n",
              "      <td>866</td>\n",
              "      <td>908</td>\n",
              "      <td>956</td>\n",
              "      <td>1029</td>\n",
              "      <td>1119</td>\n",
              "      <td>9184.0</td>\n",
              "      <td>9738.0</td>\n",
              "      <td>10520.0</td>\n",
              "      <td>12454.0</td>\n",
              "      <td>12984.0</td>\n",
              "    </tr>\n",
              "  </tbody>\n",
              "</table>\n",
              "</div>\n",
              "      <button class=\"colab-df-convert\" onclick=\"convertToInteractive('df-1dde2729-a330-41ae-a791-93ddd555ef87')\"\n",
              "              title=\"Convert this dataframe to an interactive table.\"\n",
              "              style=\"display:none;\">\n",
              "        \n",
              "  <svg xmlns=\"http://www.w3.org/2000/svg\" height=\"24px\"viewBox=\"0 0 24 24\"\n",
              "       width=\"24px\">\n",
              "    <path d=\"M0 0h24v24H0V0z\" fill=\"none\"/>\n",
              "    <path d=\"M18.56 5.44l.94 2.06.94-2.06 2.06-.94-2.06-.94-.94-2.06-.94 2.06-2.06.94zm-11 1L8.5 8.5l.94-2.06 2.06-.94-2.06-.94L8.5 2.5l-.94 2.06-2.06.94zm10 10l.94 2.06.94-2.06 2.06-.94-2.06-.94-.94-2.06-.94 2.06-2.06.94z\"/><path d=\"M17.41 7.96l-1.37-1.37c-.4-.4-.92-.59-1.43-.59-.52 0-1.04.2-1.43.59L10.3 9.45l-7.72 7.72c-.78.78-.78 2.05 0 2.83L4 21.41c.39.39.9.59 1.41.59.51 0 1.02-.2 1.41-.59l7.78-7.78 2.81-2.81c.8-.78.8-2.07 0-2.86zM5.41 20L4 18.59l7.72-7.72 1.47 1.35L5.41 20z\"/>\n",
              "  </svg>\n",
              "      </button>\n",
              "      \n",
              "  <style>\n",
              "    .colab-df-container {\n",
              "      display:flex;\n",
              "      flex-wrap:wrap;\n",
              "      gap: 12px;\n",
              "    }\n",
              "\n",
              "    .colab-df-convert {\n",
              "      background-color: #E8F0FE;\n",
              "      border: none;\n",
              "      border-radius: 50%;\n",
              "      cursor: pointer;\n",
              "      display: none;\n",
              "      fill: #1967D2;\n",
              "      height: 32px;\n",
              "      padding: 0 0 0 0;\n",
              "      width: 32px;\n",
              "    }\n",
              "\n",
              "    .colab-df-convert:hover {\n",
              "      background-color: #E2EBFA;\n",
              "      box-shadow: 0px 1px 2px rgba(60, 64, 67, 0.3), 0px 1px 3px 1px rgba(60, 64, 67, 0.15);\n",
              "      fill: #174EA6;\n",
              "    }\n",
              "\n",
              "    [theme=dark] .colab-df-convert {\n",
              "      background-color: #3B4455;\n",
              "      fill: #D2E3FC;\n",
              "    }\n",
              "\n",
              "    [theme=dark] .colab-df-convert:hover {\n",
              "      background-color: #434B5C;\n",
              "      box-shadow: 0px 1px 3px 1px rgba(0, 0, 0, 0.15);\n",
              "      filter: drop-shadow(0px 1px 2px rgba(0, 0, 0, 0.3));\n",
              "      fill: #FFFFFF;\n",
              "    }\n",
              "  </style>\n",
              "\n",
              "      <script>\n",
              "        const buttonEl =\n",
              "          document.querySelector('#df-1dde2729-a330-41ae-a791-93ddd555ef87 button.colab-df-convert');\n",
              "        buttonEl.style.display =\n",
              "          google.colab.kernel.accessAllowed ? 'block' : 'none';\n",
              "\n",
              "        async function convertToInteractive(key) {\n",
              "          const element = document.querySelector('#df-1dde2729-a330-41ae-a791-93ddd555ef87');\n",
              "          const dataTable =\n",
              "            await google.colab.kernel.invokeFunction('convertToInteractive',\n",
              "                                                     [key], {});\n",
              "          if (!dataTable) return;\n",
              "\n",
              "          const docLinkHtml = 'Like what you see? Visit the ' +\n",
              "            '<a target=\"_blank\" href=https://colab.research.google.com/notebooks/data_table.ipynb>data table notebook</a>'\n",
              "            + ' to learn more about interactive tables.';\n",
              "          element.innerHTML = '';\n",
              "          dataTable['output_type'] = 'display_data';\n",
              "          await google.colab.output.renderOutput(dataTable, element);\n",
              "          const docLink = document.createElement('div');\n",
              "          docLink.innerHTML = docLinkHtml;\n",
              "          element.appendChild(docLink);\n",
              "        }\n",
              "      </script>\n",
              "    </div>\n",
              "  </div>\n",
              "  "
            ]
          },
          "metadata": {},
          "execution_count": 12
        }
      ]
    },
    {
      "cell_type": "markdown",
      "source": [
        "## 2. Present the production of milk in Gujarat, Kerala, Andhra Pradesh, Uttar Pradesh and Punjab on 2007-2008 as a Pie chart. The pie chart should consist of proportion in percentage and labels for each piece."
      ],
      "metadata": {
        "id": "bEZqSiLt9SHt"
      }
    },
    {
      "cell_type": "code",
      "source": [
        "places = [\"Gujarat\",\"Kerala\",\"Andhra Pradesh\",\"Uttar Pradesh\",\"Punjab\"]"
      ],
      "metadata": {
        "id": "S9htVWWr9JJk"
      },
      "execution_count": 13,
      "outputs": []
    },
    {
      "cell_type": "code",
      "source": [
        "plt.title('Production of milk (2007-2008)')\n",
        "\n",
        "pie = df.iloc[:,0:1]\n",
        "pie = pie.filter(items=places,axis=0)\n",
        "pie = pie.T\n",
        "x = pie.values.flatten()\n",
        "plt.pie(x, labels=places, explode=[0,0.3,0,0,0])\n",
        "plt.show()"
      ],
      "metadata": {
        "colab": {
          "base_uri": "https://localhost:8080/",
          "height": 264
        },
        "id": "lHbf09i89eyL",
        "outputId": "5d9f6d3a-5c91-40d2-c2b6-a2c8c23e777e"
      },
      "execution_count": 31,
      "outputs": [
        {
          "output_type": "display_data",
          "data": {
            "text/plain": [
              "<Figure size 432x288 with 1 Axes>"
            ],
            "image/png": "[encoded data removed]"
          },
          "metadata": {}
        }
      ]
    },
    {
      "cell_type": "markdown",
      "source": [
        "## 3. Plot five pie charts of egg production in Gujarat, Kerala, Andhra Pradesh, Uttar Pradesh and Punjab for the five years range. Each pie chart should represent the proportional egg production in Gujarat, Kerala, Andhra Pradesh, Uttar Pradesh and Punjab for a given year."
      ],
      "metadata": {
        "id": "fDQtDWiHAgIo"
      }
    },
    {
      "cell_type": "code",
      "source": [
        "pie1 = egg_df.filter(items=places, axis=0)\n",
        "pie1 = pie1.T\n",
        "vals = pie1.T.values\n",
        "\n",
        "fig, axes = plt.subplots(2,3,figsize=(18,12))\n",
        "fig.delaxes(axes[1][2])\n",
        "axes[0][0].pie(pie1.loc[(\"Eggs\",\"2007-08 (In lakh nos.)\")].values, labels=places, autopct='%.0f%%')\n",
        "axes[0,0].set_title(\"2007-08\")\n",
        "axes[0][1].pie(pie1.loc[(\"Eggs\",\"2008-09 (In lakh nos.)\")].values, labels=places, autopct='%.0f%%')\n",
        "axes[0,1].set_title(\"2008-09\")\n",
        "axes[0][2].pie(pie1.loc[(\"Eggs\",\"2009-10 (In lakh nos.)\")].values, labels=places, autopct='%.0f%%')\n",
        "axes[0,2].set_title(\"2009-10\")\n",
        "axes[1][0].pie(pie1.loc[(\"Eggs\",\"2010-11 (In lakh nos.)\")].values, labels=places, autopct='%.0f%%')\n",
        "axes[1,0].set_title(\"2010-11\")\n",
        "axes[1][1].pie(pie1.loc[(\"Eggs\",\"2011-12 (In lakh nos.)\")].values, labels=places, autopct='%.0f%%')\n",
        "axes[1,1].set_title(\"2011-12\")"
      ],
      "metadata": {
        "colab": {
          "base_uri": "https://localhost:8080/",
          "height": 666
        },
        "id": "_zgq1BTK-NwU",
        "outputId": "2d5c8545-071c-4c62-b2f0-5af7a16502dd"
      },
      "execution_count": 37,
      "outputs": [
        {
          "output_type": "execute_result",
          "data": {
            "text/plain": [
              "Text(0.5, 1.0, '2011-12')"
            ]
          },
          "metadata": {},
          "execution_count": 37
        },
        {
          "output_type": "display_data",
          "data": {
            "text/plain": [
              "<Figure size 1296x864 with 5 Axes>"
            ],
            "image/png": "[encoded data removed]"
          },
          "metadata": {}
        }
      ]
    },
    {
      "cell_type": "markdown",
      "source": [
        "## 4. Plot Stacked Area Chart that represents the proportional egg production state wise over five years. There would be five stacked colors for Gujarat, Kerala, Andhra Pradesh, Uttar Pradesh"
      ],
      "metadata": {
        "id": "JUJkt89eB0is"
      }
    },
    {
      "cell_type": "code",
      "source": [
        "pie1.plot(kind='area', stacked=True, figsize=(16,9))"
      ],
      "metadata": {
        "colab": {
          "base_uri": "https://localhost:8080/",
          "height": 554
        },
        "id": "w6IV3etFAj56",
        "outputId": "3873db0e-f47a-4b1e-bd85-c617fe88ee6c"
      },
      "execution_count": 40,
      "outputs": [
        {
          "output_type": "execute_result",
          "data": {
            "text/plain": [
              "<matplotlib.axes._subplots.AxesSubplot at 0x7fdab6e153a0>"
            ]
          },
          "metadata": {},
          "execution_count": 40
        },
        {
          "output_type": "display_data",
          "data": {
            "text/plain": [
              "<Figure size 1152x648 with 1 Axes>"
            ],
            "image/png": "[encoded data removed]"
          },
          "metadata": {
            "needs_background": "light"
          }
        }
      ]
    },
    {
      "cell_type": "code",
      "source": [],
      "metadata": {
        "id": "1Hd6lvwZB-RF"
      },
      "execution_count": null,
      "outputs": []
    }
  ]
}